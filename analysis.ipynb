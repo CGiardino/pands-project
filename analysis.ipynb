{
 "cells": [
  {
   "metadata": {},
   "cell_type": "markdown",
   "source": [
    "# Iris Dataset Summary Statistics\n",
    "This project focuses on analyzing the Iris dataset, a well-known dataset in the field of machine learning and statistics.  \n",
    "The analysis includes generating summary statistics, visualizations, and insights into the dataset's features and species.  \n",
    "The goal is to provide a comprehensive overview of the dataset, including variable summaries, histograms, and scatter plots for different variable pairs.\n",
    "\n",
    "### Author: Carmine Giardino\n"
   ],
   "id": "82ecc4e425617503"
  },
  {
   "metadata": {
    "ExecuteTime": {
     "end_time": "2025-04-14T19:05:53.467960Z",
     "start_time": "2025-04-14T19:05:53.460299Z"
    }
   },
   "cell_type": "code",
   "source": [
    "# Import pandas for data manipulation and analysis.\n",
    "import pandas as pd\n",
    "# Import load_iris to load the Iris dataset from scikit-learn.\n",
    "from sklearn.datasets import load_iris\n",
    "\n",
    "# Load the Iris dataset.\n",
    "iris = load_iris()\n",
    "\n",
    "# Convert the dataset to a pandas DataFrame.\n",
    "# Reference: https://pandas.pydata.org/pandas-docs/stable/reference/api/pandas.DataFrame.html\n",
    "iris_df = pd.DataFrame(data=iris.data, columns=iris.feature_names)\n",
    "\n",
    "# Add the species names to the DataFrame\n",
    "target_column_name = 'species'\n",
    "# The target names are stored in the 'target' attribute of the dataset with integer labels. So we need to map them to the actual names.\n",
    "iris_df[target_column_name] = iris.target_names[iris.target]\n"
   ],
   "id": "1a6360262c2606bf",
   "outputs": [],
   "execution_count": 9
  },
  {
   "metadata": {},
   "cell_type": "markdown",
   "source": [
    "## Group by species name and compute summary statistics.\n",
    "### References: \n",
    "- [DataFrame groupby](https://pandas.pydata.org/pandas-docs/stable/reference/api/pandas.DataFrame.groupby.html)\n",
    "- [DataFrame describe](https://pandas.pydata.org/pandas-docs/stable/reference/api/pandas.DataFrame.describe.html)\n",
    "- [DataFrame rename axis](https://pandas.pydata.org/pandas-docs/stable/reference/api/pandas.DataFrame.rename_axis.html)\n",
    "- [DataFrame reset index](https://pandas.pydata.org/pandas-docs/stable/reference/api/pandas.DataFrame.reset_index.html)"
   ],
   "id": "391de6fea5ad4304"
  },
  {
   "metadata": {
    "ExecuteTime": {
     "end_time": "2025-04-14T19:05:53.486914Z",
     "start_time": "2025-04-14T19:05:53.474069Z"
    }
   },
   "cell_type": "code",
   "source": "iris_summary_by_class = iris_df.groupby(target_column_name).describe().reset_index()",
   "id": "db5c49701dd67f9",
   "outputs": [],
   "execution_count": 10
  },
  {
   "metadata": {},
   "cell_type": "markdown",
   "source": [
    "## Flatten the multi-level column headers.\n",
    "### Reference: \n",
    "- [Flatten headers](https://chatgpt.com/share/67f98414-0680-800f-aa4e-0e5b69996c99) - couldn't find an easy way to do this in the documentation."
   ],
   "id": "fcf2f9e7f8534681"
  },
  {
   "metadata": {
    "ExecuteTime": {
     "end_time": "2025-04-14T19:05:53.499247Z",
     "start_time": "2025-04-14T19:05:53.497048Z"
    }
   },
   "cell_type": "code",
   "source": "iris_summary_by_class.columns = [' '.join(col).strip() for col in iris_summary_by_class.columns.values]",
   "id": "698735a1558679b4",
   "outputs": [],
   "execution_count": 11
  },
  {
   "metadata": {},
   "cell_type": "markdown",
   "source": [
    "## Save the summary DataFrame to a text file.\n",
    "### Reference: \n",
    "- [DataFrame to string](https://pandas.pydata.org/pandas-docs/stable/reference/api/pandas.DataFrame.to_string.html)\n",
    "- [Python file write](https://www.w3schools.com/python/python_file_write.asp)"
   ],
   "id": "d32271c049ee4a3e"
  },
  {
   "metadata": {
    "ExecuteTime": {
     "end_time": "2025-04-14T19:05:53.516485Z",
     "start_time": "2025-04-14T19:05:53.508653Z"
    }
   },
   "cell_type": "code",
   "source": [
    "output_content = iris_summary_by_class.to_string(index=False, float_format='{:0.2f}'.format)\n",
    "output_filename = 'iris_summary_statistics.txt'\n",
    "with open(output_filename, 'w') as file:\n",
    "    file.write(\"Variable Summary Analysis\\n\")\n",
    "    file.write(output_content)\n",
    "    file.write(\"\\n\")\n",
    "    \n",
    "# Display the DataFrame directly in the notebook\n",
    "display(iris_summary_by_class)"
   ],
   "id": "789b3e7b906c152a",
   "outputs": [
    {
     "data": {
      "text/plain": [
       "      species  sepal length (cm) count  sepal length (cm) mean  \\\n",
       "0      setosa                     50.0                   5.006   \n",
       "1  versicolor                     50.0                   5.936   \n",
       "2   virginica                     50.0                   6.588   \n",
       "\n",
       "   sepal length (cm) std  sepal length (cm) min  sepal length (cm) 25%  \\\n",
       "0               0.352490                    4.3                  4.800   \n",
       "1               0.516171                    4.9                  5.600   \n",
       "2               0.635880                    4.9                  6.225   \n",
       "\n",
       "   sepal length (cm) 50%  sepal length (cm) 75%  sepal length (cm) max  \\\n",
       "0                    5.0                    5.2                    5.8   \n",
       "1                    5.9                    6.3                    7.0   \n",
       "2                    6.5                    6.9                    7.9   \n",
       "\n",
       "   sepal width (cm) count  ...  petal length (cm) 75%  petal length (cm) max  \\\n",
       "0                    50.0  ...                  1.575                    1.9   \n",
       "1                    50.0  ...                  4.600                    5.1   \n",
       "2                    50.0  ...                  5.875                    6.9   \n",
       "\n",
       "   petal width (cm) count  petal width (cm) mean  petal width (cm) std  \\\n",
       "0                    50.0                  0.246              0.105386   \n",
       "1                    50.0                  1.326              0.197753   \n",
       "2                    50.0                  2.026              0.274650   \n",
       "\n",
       "   petal width (cm) min  petal width (cm) 25%  petal width (cm) 50%  \\\n",
       "0                   0.1                   0.2                   0.2   \n",
       "1                   1.0                   1.2                   1.3   \n",
       "2                   1.4                   1.8                   2.0   \n",
       "\n",
       "   petal width (cm) 75%  petal width (cm) max  \n",
       "0                   0.3                   0.6  \n",
       "1                   1.5                   1.8  \n",
       "2                   2.3                   2.5  \n",
       "\n",
       "[3 rows x 33 columns]"
      ],
      "text/html": [
       "<div>\n",
       "<style scoped>\n",
       "    .dataframe tbody tr th:only-of-type {\n",
       "        vertical-align: middle;\n",
       "    }\n",
       "\n",
       "    .dataframe tbody tr th {\n",
       "        vertical-align: top;\n",
       "    }\n",
       "\n",
       "    .dataframe thead th {\n",
       "        text-align: right;\n",
       "    }\n",
       "</style>\n",
       "<table border=\"1\" class=\"dataframe\">\n",
       "  <thead>\n",
       "    <tr style=\"text-align: right;\">\n",
       "      <th></th>\n",
       "      <th>species</th>\n",
       "      <th>sepal length (cm) count</th>\n",
       "      <th>sepal length (cm) mean</th>\n",
       "      <th>sepal length (cm) std</th>\n",
       "      <th>sepal length (cm) min</th>\n",
       "      <th>sepal length (cm) 25%</th>\n",
       "      <th>sepal length (cm) 50%</th>\n",
       "      <th>sepal length (cm) 75%</th>\n",
       "      <th>sepal length (cm) max</th>\n",
       "      <th>sepal width (cm) count</th>\n",
       "      <th>...</th>\n",
       "      <th>petal length (cm) 75%</th>\n",
       "      <th>petal length (cm) max</th>\n",
       "      <th>petal width (cm) count</th>\n",
       "      <th>petal width (cm) mean</th>\n",
       "      <th>petal width (cm) std</th>\n",
       "      <th>petal width (cm) min</th>\n",
       "      <th>petal width (cm) 25%</th>\n",
       "      <th>petal width (cm) 50%</th>\n",
       "      <th>petal width (cm) 75%</th>\n",
       "      <th>petal width (cm) max</th>\n",
       "    </tr>\n",
       "  </thead>\n",
       "  <tbody>\n",
       "    <tr>\n",
       "      <th>0</th>\n",
       "      <td>setosa</td>\n",
       "      <td>50.0</td>\n",
       "      <td>5.006</td>\n",
       "      <td>0.352490</td>\n",
       "      <td>4.3</td>\n",
       "      <td>4.800</td>\n",
       "      <td>5.0</td>\n",
       "      <td>5.2</td>\n",
       "      <td>5.8</td>\n",
       "      <td>50.0</td>\n",
       "      <td>...</td>\n",
       "      <td>1.575</td>\n",
       "      <td>1.9</td>\n",
       "      <td>50.0</td>\n",
       "      <td>0.246</td>\n",
       "      <td>0.105386</td>\n",
       "      <td>0.1</td>\n",
       "      <td>0.2</td>\n",
       "      <td>0.2</td>\n",
       "      <td>0.3</td>\n",
       "      <td>0.6</td>\n",
       "    </tr>\n",
       "    <tr>\n",
       "      <th>1</th>\n",
       "      <td>versicolor</td>\n",
       "      <td>50.0</td>\n",
       "      <td>5.936</td>\n",
       "      <td>0.516171</td>\n",
       "      <td>4.9</td>\n",
       "      <td>5.600</td>\n",
       "      <td>5.9</td>\n",
       "      <td>6.3</td>\n",
       "      <td>7.0</td>\n",
       "      <td>50.0</td>\n",
       "      <td>...</td>\n",
       "      <td>4.600</td>\n",
       "      <td>5.1</td>\n",
       "      <td>50.0</td>\n",
       "      <td>1.326</td>\n",
       "      <td>0.197753</td>\n",
       "      <td>1.0</td>\n",
       "      <td>1.2</td>\n",
       "      <td>1.3</td>\n",
       "      <td>1.5</td>\n",
       "      <td>1.8</td>\n",
       "    </tr>\n",
       "    <tr>\n",
       "      <th>2</th>\n",
       "      <td>virginica</td>\n",
       "      <td>50.0</td>\n",
       "      <td>6.588</td>\n",
       "      <td>0.635880</td>\n",
       "      <td>4.9</td>\n",
       "      <td>6.225</td>\n",
       "      <td>6.5</td>\n",
       "      <td>6.9</td>\n",
       "      <td>7.9</td>\n",
       "      <td>50.0</td>\n",
       "      <td>...</td>\n",
       "      <td>5.875</td>\n",
       "      <td>6.9</td>\n",
       "      <td>50.0</td>\n",
       "      <td>2.026</td>\n",
       "      <td>0.274650</td>\n",
       "      <td>1.4</td>\n",
       "      <td>1.8</td>\n",
       "      <td>2.0</td>\n",
       "      <td>2.3</td>\n",
       "      <td>2.5</td>\n",
       "    </tr>\n",
       "  </tbody>\n",
       "</table>\n",
       "<p>3 rows × 33 columns</p>\n",
       "</div>"
      ]
     },
     "metadata": {},
     "output_type": "display_data"
    }
   ],
   "execution_count": 12
  }
 ],
 "metadata": {
  "kernelspec": {
   "name": "python3",
   "language": "python",
   "display_name": "Python 3 (ipykernel)"
  }
 },
 "nbformat": 5,
 "nbformat_minor": 9
}
